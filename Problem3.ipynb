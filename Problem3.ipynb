{
 "cells": [
  {
   "attachments": {},
   "cell_type": "markdown",
   "metadata": {},
   "source": [
    "# Problem 3\n",
    "\"What is the largest prime factor of the number 600851475143.\""
   ]
  },
  {
   "cell_type": "code",
   "execution_count": 3,
   "metadata": {},
   "outputs": [],
   "source": [
    "import sys\n",
    "import numpy as np\n",
    "import math"
   ]
  },
  {
   "cell_type": "code",
   "execution_count": 6,
   "metadata": {},
   "outputs": [
    {
     "name": "stdout",
     "output_type": "stream",
     "text": [
      "[71, 839, 1471, 6857.0]\n",
      "6857.0\n"
     ]
    }
   ],
   "source": [
    "def is_prime(n):\n",
    "    for i in range(2 ,round(np.ceil(math.sqrt(n)))):\n",
    "        if n % i == 0:\n",
    "            return False\n",
    "    return True\n",
    "\n",
    "i = 600851475143\n",
    "p = []\n",
    "n = 2\n",
    "\n",
    "while n <= round(np.ceil(math.sqrt(i))):\n",
    "    if is_prime(n):\n",
    "        if i % n == 0:\n",
    "            i = i/n\n",
    "            p.append(n)\n",
    "            n = 2\n",
    "        else:\n",
    "            n += 1\n",
    "    else:\n",
    "        n += 1\n",
    "p.append(i)\n",
    "    \n",
    "print(p)\n",
    "print(max(p))"
   ]
  },
  {
   "attachments": {},
   "cell_type": "markdown",
   "metadata": {},
   "source": [
    "My solution to problem 3 is 6875."
   ]
  }
 ],
 "metadata": {
  "kernelspec": {
   "display_name": "Python 3",
   "language": "python",
   "name": "python3"
  },
  "language_info": {
   "codemirror_mode": {
    "name": "ipython",
    "version": 3
   },
   "file_extension": ".py",
   "mimetype": "text/x-python",
   "name": "python",
   "nbconvert_exporter": "python",
   "pygments_lexer": "ipython3",
   "version": "3.11.3"
  },
  "orig_nbformat": 4
 },
 "nbformat": 4,
 "nbformat_minor": 2
}
